{
 "cells": [
  {
   "cell_type": "markdown",
   "metadata": {},
   "source": [
    "# Homework 6. KNN - Handwritten digits"
   ]
  },
  {
   "cell_type": "markdown",
   "metadata": {},
   "source": [
    "***Double Click here to edit this cell***\n",
    "\n",
    "- Name: 이재혁\n",
    "- Student ID: 201502552 \n",
    "- Submission date: 2020 - 06 -07"
   ]
  },
  {
   "cell_type": "markdown",
   "metadata": {},
   "source": [
    "### We have 1797 handwritten digits of size 8x8 "
   ]
  },
  {
   "cell_type": "code",
   "execution_count": 295,
   "metadata": {},
   "outputs": [
    {
     "name": "stdout",
     "output_type": "stream",
     "text": [
      "(1797, 64)\n"
     ]
    }
   ],
   "source": [
    "from sklearn.datasets import load_digits\n",
    "digits = load_digits()\n",
    "print(digits.data.shape)"
   ]
  },
  {
   "cell_type": "code",
   "execution_count": 296,
   "metadata": {},
   "outputs": [
    {
     "data": {
      "text/plain": [
       "(1797,)"
      ]
     },
     "execution_count": 296,
     "metadata": {},
     "output_type": "execute_result"
    }
   ],
   "source": [
    "digits.target.shape\n"
   ]
  },
  {
   "cell_type": "markdown",
   "metadata": {},
   "source": [
    "### Try with some handwritten images"
   ]
  },
  {
   "cell_type": "code",
   "execution_count": 297,
   "metadata": {},
   "outputs": [
    {
     "name": "stdout",
     "output_type": "stream",
     "text": [
      "Target is 0\n",
      "Data is :\n",
      "\n",
      "[[ 0.  0.  5. 13.  9.  1.  0.  0.]\n",
      " [ 0.  0. 13. 15. 10. 15.  5.  0.]\n",
      " [ 0.  3. 15.  2.  0. 11.  8.  0.]\n",
      " [ 0.  4. 12.  0.  0.  8.  8.  0.]\n",
      " [ 0.  5.  8.  0.  0.  9.  8.  0.]\n",
      " [ 0.  4. 11.  0.  1. 12.  7.  0.]\n",
      " [ 0.  2. 14.  5. 10. 12.  0.  0.]\n",
      " [ 0.  0.  6. 13. 10.  0.  0.  0.]]\n"
     ]
    },
    {
     "data": {
      "text/plain": [
       "<Figure size 432x288 with 0 Axes>"
      ]
     },
     "metadata": {},
     "output_type": "display_data"
    },
    {
     "data": {
      "image/png": "[encoded data removed]",
      "text/plain": [
       "<Figure size 288x288 with 1 Axes>"
      ]
     },
     "metadata": {
      "needs_background": "light"
     },
     "output_type": "display_data"
    }
   ],
   "source": [
    "%matplotlib inline\n",
    "\n",
    "import matplotlib.pyplot as plt \n",
    "\n",
    "k = 0\n",
    "print('Target is {}'.format(digits.target[k]))\n",
    "print('Data is :\\n')\n",
    "print(digits.data[k].reshape(8,8))\n",
    "plt.gray()\n",
    "plt.matshow(digits.images[k]) \n",
    "plt.show() "
   ]
  },
  {
   "cell_type": "markdown",
   "metadata": {},
   "source": [
    "# Problem 1 (30 pts)\n",
    "\n",
    "- We want to classify handwritten digits using **k nearest neighbor classifier**"
   ]
  },
  {
   "cell_type": "markdown",
   "metadata": {},
   "source": [
    "## STEP 1\n",
    "\n",
    "- import whatever you need\n",
    "- don't modify the random number seed\n",
    "- you must set \"np.random.seed(0)\"\" before you do \"train_test_split\"\n",
    "- Split the data into training dataset (2/3 of the total data), test dataset(1/3 of the total data)"
   ]
  },
  {
   "cell_type": "code",
   "execution_count": 298,
   "metadata": {},
   "outputs": [],
   "source": [
    "from sklearn import datasets\n",
    "from sklearn.model_selection import train_test_split\n",
    "from sklearn.neighbors import KNeighborsClassifier\n",
    "from sklearn.metrics import confusion_matrix,classification_report\n",
    "import numpy as np\n",
    "\n",
    "np.random.seed(0)\n",
    "digits = datasets.load_digits()\n",
    "\n",
    "# YOUR CODE HERE\n",
    "(trainData, testData, trainLabels, testLabels) = train_test_split(np.array(digits.data),digits.target, test_size=0.33,random_state= np.random.seed(0))\n",
    "(trainData, valData, trainLabels, valLabels) = train_test_split(trainData, trainLabels,test_size=0.1,random_state= np.random.seed(0))"
   ]
  },
  {
   "cell_type": "markdown",
   "metadata": {},
   "source": [
    "## STEP 2\n",
    "\n",
    "- Use sklearn k nearest neighbor classifier to classify digits\n",
    "- Print confusion matrix, classification report, accuracy\n",
    "- This homework will be graded based on **accuracy**"
   ]
  },
  {
   "cell_type": "code",
   "execution_count": 299,
   "metadata": {},
   "outputs": [
    {
     "name": "stdout",
     "output_type": "stream",
     "text": [
      "k=1, accuracy=99.17%\n",
      "k=2, accuracy=98.35%\n",
      "k=3, accuracy=99.17%\n",
      "k=4, accuracy=98.35%\n",
      "k=5, accuracy=99.17%\n",
      "k=6, accuracy=98.35%\n",
      "k=7, accuracy=98.35%\n",
      "k=8, accuracy=97.52%\n",
      "k=9, accuracy=97.52%\n",
      "k=10, accuracy=97.52%\n",
      "confusion matrix : \n",
      "\n",
      "[[49  0  0  0  0  0  0  0  0  0]\n",
      " [ 0 61  0  0  0  0  0  0  0  0]\n",
      " [ 0  0 62  0  0  0  0  0  0  0]\n",
      " [ 0  0  0 55  0  0  0  0  0  0]\n",
      " [ 0  0  0  0 50  0  0  0  0  0]\n",
      " [ 0  0  0  0  0 63  1  0  0  1]\n",
      " [ 0  0  0  0  0  0 67  0  0  0]\n",
      " [ 0  0  0  0  0  0  0 56  0  0]\n",
      " [ 0  2  0  1  0  0  0  0 64  0]\n",
      " [ 0  0  0  3  0  1  0  0  0 58]]\n",
      "\n",
      "\n",
      "classification_report : \n",
      "\n",
      "              precision    recall  f1-score   support\n",
      "\n",
      "           0       1.00      1.00      1.00        49\n",
      "           1       0.97      1.00      0.98        61\n",
      "           2       1.00      1.00      1.00        62\n",
      "           3       0.93      1.00      0.96        55\n",
      "           4       1.00      1.00      1.00        50\n",
      "           5       0.98      0.97      0.98        65\n",
      "           6       0.99      1.00      0.99        67\n",
      "           7       1.00      1.00      1.00        56\n",
      "           8       1.00      0.96      0.98        67\n",
      "           9       0.98      0.94      0.96        62\n",
      "\n",
      "    accuracy                           0.98       594\n",
      "   macro avg       0.99      0.99      0.99       594\n",
      "weighted avg       0.99      0.98      0.98       594\n",
      "\n",
      "Average accuracy = 98.35%\n"
     ]
    }
   ],
   "source": [
    "# YOUR CODE HERE\n",
    "kVals = range(1, 11, 1)\n",
    "accuracies = []\n",
    "for k in range(1, 11, 1):\n",
    "    model = KNeighborsClassifier(n_neighbors=k)\n",
    "    model.fit(trainData, trainLabels)\n",
    "    score = model.score(valData, valLabels)\n",
    "    print(\"k=%d, accuracy=%.2f%%\" % (k, score * 100))\n",
    "    accuracies.append(score)\n",
    "i = np.argmax(accuracies)\n",
    "model = KNeighborsClassifier(n_neighbors=kVals[i])\n",
    "model.fit(trainData, trainLabels)\n",
    "predictions = model.predict(testData)\n",
    "\n",
    "cm = confusion_matrix(testLabels,predictions)\n",
    "cr = classification_report(testLabels, predictions)\n",
    "accuracy = np.mean(accuracies)\n",
    "print('confusion matrix : \\n')\n",
    "print(cm)\n",
    "print('\\n\\nclassification_report : \\n')\n",
    "print(cr)\n",
    "print('Average accuracy = {:.2f}%'.format(accuracy*100))"
   ]
  },
  {
   "cell_type": "markdown",
   "metadata": {},
   "source": [
    "My result:\n",
    "```\n",
    "confusion matrix : \n",
    "\n",
    "[[49  0  0  0  0  0  0  0  0  0]\n",
    " [ 0 61  0  0  0  0  0  0  0  0]\n",
    " [ 0  0 62  0  0  0  0  0  0  0]\n",
    " [ 0  0  0 55  0  0  0  0  0  0]\n",
    " [ 0  0  0  0 50  0  0  0  0  0]\n",
    " [ 0  0  0  0  0 63  1  0  0  1]\n",
    " [ 0  0  0  0  0  0 67  0  0  0]\n",
    " [ 0  0  0  0  0  0  0 56  0  0]\n",
    " [ 0  2  0  1  0  0  0  0 64  0]\n",
    " [ 0  0  0  3  0  1  0  0  0 58]]\n",
    "\n",
    "\n",
    "classification_report : \n",
    "\n",
    "              precision    recall  f1-score   support\n",
    "\n",
    "           0       1.00      1.00      1.00        49\n",
    "           1       0.97      1.00      0.98        61\n",
    "           2       1.00      1.00      1.00        62\n",
    "           3       0.93      1.00      0.96        55\n",
    "           4       1.00      1.00      1.00        50\n",
    "           5       0.98      0.97      0.98        65\n",
    "           6       0.99      1.00      0.99        67\n",
    "           7       1.00      1.00      1.00        56\n",
    "           8       1.00      0.96      0.98        67\n",
    "           9       0.98      0.94      0.96        62\n",
    "\n",
    "    accuracy                           0.98       594\n",
    "   macro avg       0.99      0.99      0.99       594\n",
    "weighted avg       0.99      0.98      0.98       594\n",
    "\n",
    "Average accuracy = 98.48%\n",
    "```"
   ]
  },
  {
   "cell_type": "markdown",
   "metadata": {},
   "source": [
    "## State-of-the-Art of MNIST classification: 99.79%\n",
    "\n",
    "- https://rodrigob.github.io/are_we_there_yet/build/classification_datasets_results.html\n",
    "- MNIST dataset is much bigger dataset: 60,000 training images and 10,000 testing images"
   ]
  },
  {
   "cell_type": "markdown",
   "metadata": {},
   "source": [
    "# Problem 2 (30 pts)\n",
    "\n",
    "- If you choose any hyperparameters and you did any transformation in your data, justify your choice and transformation.\n",
    "- The justification must be code, data, or plotted images, **not your guess!!!**\n",
    "- This must be a longer code. \n",
    "- Use plotted image whenever possible.\n",
    "- You may add as many cells as you want.\n",
    "- To add a cell, insert->insert cell or click '+' button above in the notebook.\n",
    "- you must set \"np.random.seed(0)\"\" before you do \"train_test_split\""
   ]
  },
  {
   "cell_type": "code",
   "execution_count": 300,
   "metadata": {},
   "outputs": [
    {
     "name": "stdout",
     "output_type": "stream",
     "text": [
      "think number: 2\n"
     ]
    },
    {
     "data": {
      "image/png": "[encoded data removed]",
      "text/plain": [
       "<Figure size 432x288 with 1 Axes>"
      ]
     },
     "metadata": {
      "needs_background": "light"
     },
     "output_type": "display_data"
    },
    {
     "name": "stdout",
     "output_type": "stream",
     "text": [
      "think number: 3\n"
     ]
    },
    {
     "data": {
      "image/png": "[encoded data removed]",
      "text/plain": [
       "<Figure size 432x288 with 1 Axes>"
      ]
     },
     "metadata": {
      "needs_background": "light"
     },
     "output_type": "display_data"
    },
    {
     "name": "stdout",
     "output_type": "stream",
     "text": [
      "think number: 1\n"
     ]
    },
    {
     "data": {
      "image/png": "[encoded data removed]",
      "text/plain": [
       "<Figure size 432x288 with 1 Axes>"
      ]
     },
     "metadata": {
      "needs_background": "light"
     },
     "output_type": "display_data"
    },
    {
     "name": "stdout",
     "output_type": "stream",
     "text": [
      "think number: 8\n"
     ]
    },
    {
     "data": {
      "image/png": "[encoded data removed]",
      "text/plain": [
       "<Figure size 432x288 with 1 Axes>"
      ]
     },
     "metadata": {
      "needs_background": "light"
     },
     "output_type": "display_data"
    },
    {
     "name": "stdout",
     "output_type": "stream",
     "text": [
      "think number: 7\n"
     ]
    },
    {
     "data": {
      "image/png": "[encoded data removed]",
      "text/plain": [
       "<Figure size 432x288 with 1 Axes>"
      ]
     },
     "metadata": {
      "needs_background": "light"
     },
     "output_type": "display_data"
    }
   ],
   "source": [
    "# ADD YOUR CELL\n",
    "import matplotlib.pyplot as plt\n",
    "\n",
    "for i in np.random.randint(0, high=len(testLabels), size=(5,)):\n",
    "    image = testData[i]\n",
    "    prediction = model.predict([image])[0]\n",
    "    imgdata = np.array(image, dtype='float')\n",
    "    pixels = imgdata.reshape((8,8))\n",
    "    plt.imshow(pixels,cmap='gray')\n",
    "    plt.annotate(prediction,(3,3),bbox={'facecolor':'white'},fontsize=16)\n",
    "    print(\"think number: {}\".format(prediction))\n",
    "    plt.show()"
   ]
  },
  {
   "cell_type": "code",
   "execution_count": 301,
   "metadata": {},
   "outputs": [
    {
     "name": "stdout",
     "output_type": "stream",
     "text": [
      "k=1, accuracy=99.17%\n",
      "k=2, accuracy=98.35%\n",
      "k=3, accuracy=99.17%\n",
      "k=4, accuracy=98.35%\n",
      "k=5, accuracy=99.17%\n",
      "k=6, accuracy=98.35%\n",
      "k=7, accuracy=98.35%\n",
      "k=8, accuracy=97.52%\n",
      "k=9, accuracy=97.52%\n",
      "k=10, accuracy=97.52%\n",
      "k=11, accuracy=98.35%\n",
      "k=12, accuracy=96.69%\n",
      "k=13, accuracy=96.69%\n",
      "k=14, accuracy=95.87%\n",
      "k=15, accuracy=95.87%\n",
      "k=16, accuracy=95.87%\n",
      "k=17, accuracy=96.69%\n",
      "k=18, accuracy=95.87%\n",
      "k=19, accuracy=95.87%\n",
      "k=20, accuracy=95.87%\n",
      "k=21, accuracy=95.87%\n",
      "k=22, accuracy=95.04%\n",
      "k=23, accuracy=95.04%\n",
      "k=24, accuracy=95.04%\n",
      "k=25, accuracy=95.87%\n",
      "k=26, accuracy=95.87%\n",
      "k=27, accuracy=96.69%\n",
      "k=28, accuracy=95.87%\n",
      "k=29, accuracy=95.87%\n",
      "confusion matrix : \n",
      "\n",
      "[[49  0  0  0  0  0  0  0  0  0]\n",
      " [ 0 61  0  0  0  0  0  0  0  0]\n",
      " [ 0  0 62  0  0  0  0  0  0  0]\n",
      " [ 0  0  0 55  0  0  0  0  0  0]\n",
      " [ 0  0  0  0 50  0  0  0  0  0]\n",
      " [ 0  0  0  0  0 63  1  0  0  1]\n",
      " [ 0  0  0  0  0  0 67  0  0  0]\n",
      " [ 0  0  0  0  0  0  0 56  0  0]\n",
      " [ 0  2  0  1  0  0  0  0 64  0]\n",
      " [ 0  0  0  3  0  1  0  0  0 58]]\n",
      "\n",
      "\n",
      "classification_report : \n",
      "\n",
      "              precision    recall  f1-score   support\n",
      "\n",
      "           0       1.00      1.00      1.00        49\n",
      "           1       0.97      1.00      0.98        61\n",
      "           2       1.00      1.00      1.00        62\n",
      "           3       0.93      1.00      0.96        55\n",
      "           4       1.00      1.00      1.00        50\n",
      "           5       0.98      0.97      0.98        65\n",
      "           6       0.99      1.00      0.99        67\n",
      "           7       1.00      1.00      1.00        56\n",
      "           8       1.00      0.96      0.98        67\n",
      "           9       0.98      0.94      0.96        62\n",
      "\n",
      "    accuracy                           0.98       594\n",
      "   macro avg       0.99      0.99      0.99       594\n",
      "weighted avg       0.99      0.98      0.98       594\n",
      "\n",
      "Average accuracy = 98.35%\n"
     ]
    }
   ],
   "source": [
    "# ADD YOUR CELL\n",
    "\n",
    "for k in range(1, 30, 1):\n",
    "    model = KNeighborsClassifier(n_neighbors=k)\n",
    "    model.fit(trainData, trainLabels)\n",
    "    score = model.score(valData, valLabels)\n",
    "    print(\"k=%d, accuracy=%.2f%%\" % (k, score * 100))\n",
    "\n",
    "cm = confusion_matrix(testLabels,predictions)\n",
    "cr = classification_report(testLabels, predictions)\n",
    "accuracy = np.mean(accuracies)\n",
    "\n",
    "print('confusion matrix : \\n')\n",
    "print(cm)\n",
    "print('\\n\\nclassification_report : \\n')\n",
    "print(cr)\n",
    "print('Average accuracy = {:.2f}%'.format(accuracy*100))\n",
    "# you must set \"np.random.seed(0)\"\" before you do \"train_test_split\""
   ]
  },
  {
   "cell_type": "markdown",
   "metadata": {},
   "source": [
    "- This is my result. \n",
    "\n",
    "```\n",
    "confusion matrix : \n",
    "\n",
    "[[49  0  0  0  0  0  0  0  0  0]\n",
    " [ 0 61  0  0  0  0  0  0  0  0]\n",
    " [ 0  0 61  1  0  0  0  0  0  0]\n",
    " [ 0  0  0 55  0  0  0  0  0  0]\n",
    " [ 0  0  0  0 50  0  0  0  0  0]\n",
    " [ 0  0  0  0  0 63  1  0  0  1]\n",
    " [ 0  0  0  0  0  0 67  0  0  0]\n",
    " [ 0  0  0  0  0  0  0 56  0  0]\n",
    " [ 0  2  0  0  0  0  0  0 65  0]\n",
    " [ 0  0  0  1  0  0  0  0  0 61]]\n",
    "\n",
    "\n",
    "classification_report : \n",
    "\n",
    "              precision    recall  f1-score   support\n",
    "\n",
    "           0       1.00      1.00      1.00        49\n",
    "           1       0.97      1.00      0.98        61\n",
    "           2       1.00      0.98      0.99        62\n",
    "           3       0.96      1.00      0.98        55\n",
    "           4       1.00      1.00      1.00        50\n",
    "           5       1.00      0.97      0.98        65\n",
    "           6       0.99      1.00      0.99        67\n",
    "           7       1.00      1.00      1.00        56\n",
    "           8       1.00      0.97      0.98        67\n",
    "           9       0.98      0.98      0.98        62\n",
    "\n",
    "    accuracy                           0.99       594\n",
    "   macro avg       0.99      0.99      0.99       594\n",
    "weighted avg       0.99      0.99      0.99       594\n",
    "\n",
    "Average accuracy = 98.99%\n",
    "```"
   ]
  },
  {
   "cell_type": "markdown",
   "metadata": {},
   "source": [
    "### Written justification for your hyperparameter choice and data transformation\n",
    "\n",
    "- 다차원 공간의 데이터를 다루는 머신러닝에 대해서 이론상으로 공부하면서 어렵게 생각했지만 실제로 코드를 짜보면서 느낀것은 재밌다는 느낌이 \n",
    "든다는 것이다. 64차원이라는 공간을 내가 상상할수는 없지만 나의 코드로 64차원 공간의 데이터를 다룬다는것은 굉장히 흥미로웠다. 이전에 과제 k-nearest 문제를 풀때와는 다른 진짜 머신러닝에 활용되는 데이터 마이닝 기법을 사용한 기분이다.\n",
    "\n"
   ]
  },
  {
   "cell_type": "markdown",
   "metadata": {},
   "source": [
    "## Ethics:\n",
    "If you cheat, you will get negatgive of the total points.\n",
    "If the homework total is 22 and you cheat, you get -22."
   ]
  },
  {
   "cell_type": "markdown",
   "metadata": {},
   "source": [
    "## What to submit\n",
    "- Run **all cells**\n",
    "- Goto \"File -> Print Preview\" (If that doesn't work, you may print ipynb file in Google Chrome print menu)\n",
    "- Print the page as pdf\n",
    "- Submit the pdf file in google classroom\n",
    "- No late homeworks accepted"
   ]
  }
 ],
 "metadata": {
  "celltoolbar": "Slideshow",
  "hide_input": false,
  "kernelspec": {
   "display_name": "Python 3",
   "language": "python",
   "name": "python3"
  },
  "language_info": {
   "codemirror_mode": {
    "name": "ipython",
    "version": 3
   },
   "file_extension": ".py",
   "mimetype": "text/x-python",
   "name": "python",
   "nbconvert_exporter": "python",
   "pygments_lexer": "ipython3",
   "version": "3.7.6"
  }
 },
 "nbformat": 4,
 "nbformat_minor": 2
}
