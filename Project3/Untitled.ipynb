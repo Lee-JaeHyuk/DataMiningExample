{
 "cells": [
  {
   "cell_type": "code",
   "execution_count": 6,
   "metadata": {},
   "outputs": [],
   "source": [
    "import numpy as np\n",
    "M=np.arange(35).reshape(5,7)\n"
   ]
  },
  {
   "cell_type": "code",
   "execution_count": 7,
   "metadata": {},
   "outputs": [
    {
     "data": {
      "text/plain": [
       "array([[  0,   1,  -2,   3,  -4,   5,  -6],\n",
       "       [  7,  -8,   9, -10,  11, -12,  13],\n",
       "       [-14,  15, -16,  17, -18,  19, -20],\n",
       "       [ 21, -22,  23, -24,  25, -26,  27],\n",
       "       [-28,  29, -30,  31, -32,  33, -34]])"
      ]
     },
     "execution_count": 7,
     "metadata": {},
     "output_type": "execute_result"
    }
   ],
   "source": [
    "np.where(M%2==0,-M,M)"
   ]
  },
  {
   "cell_type": "code",
   "execution_count": 15,
   "metadata": {},
   "outputs": [
    {
     "data": {
      "text/plain": [
       "(5, 7)"
      ]
     },
     "execution_count": 15,
     "metadata": {},
     "output_type": "execute_result"
    }
   ],
   "source": [
    "M.shape"
   ]
  },
  {
   "cell_type": "code",
   "execution_count": 25,
   "metadata": {},
   "outputs": [
    {
     "name": "stdout",
     "output_type": "stream",
     "text": [
      "(2, 3)\n",
      "[[[1 2 3]]\n",
      "\n",
      " [[4 5 6]]]\n"
     ]
    }
   ],
   "source": [
    "import numpy as np\n",
    "t = np.array([[1,2,3],[4,5,6]])\n",
    "print(t.shape)\n",
    "x = t[:,np.newaxis,:]\n",
    "x.shape\n",
    "print(x)"
   ]
  },
  {
   "cell_type": "code",
   "execution_count": null,
   "metadata": {},
   "outputs": [],
   "source": []
  },
  {
   "cell_type": "code",
   "execution_count": 26,
   "metadata": {},
   "outputs": [
    {
     "data": {
      "text/plain": [
       "(1, 1)"
      ]
     },
     "execution_count": 26,
     "metadata": {},
     "output_type": "execute_result"
    }
   ],
   "source": [
    "b = np.array([[10]])\n",
    "b.shape"
   ]
  },
  {
   "cell_type": "code",
   "execution_count": 29,
   "metadata": {},
   "outputs": [
    {
     "data": {
      "text/plain": [
       "(1, 1, 1, 1)"
      ]
     },
     "execution_count": 29,
     "metadata": {},
     "output_type": "execute_result"
    }
   ],
   "source": [
    "a = b[np.newaxis,np.newaxis]\n",
    "a.shape"
   ]
  },
  {
   "cell_type": "code",
   "execution_count": 36,
   "metadata": {},
   "outputs": [
    {
     "name": "stdout",
     "output_type": "stream",
     "text": [
      "(4,)\n",
      "[[ 0  4  8 12]\n",
      " [ 4  0  4  8]\n",
      " [ 8  4  0  4]\n",
      " [12  8  4  0]]\n"
     ]
    }
   ],
   "source": [
    "import numpy as np\n",
    "\n",
    "a = np.array([3,7,11,15])\n",
    "print(a.shape)\n",
    "t = a[:,np.newaxis]\n",
    "print(abs(t-a))\n"
   ]
  },
  {
   "cell_type": "code",
   "execution_count": 69,
   "metadata": {},
   "outputs": [
    {
     "data": {
      "text/plain": [
       "(10, 2)"
      ]
     },
     "execution_count": 69,
     "metadata": {},
     "output_type": "execute_result"
    }
   ],
   "source": [
    "np.random.seed(0)\n",
    "data = np.random.randn(10,2)\n",
    "data\n",
    "np.shape(data)"
   ]
  },
  {
   "cell_type": "code",
   "execution_count": 80,
   "metadata": {},
   "outputs": [
    {
     "name": "stdout",
     "output_type": "stream",
     "text": [
      "(10, 2, 1)\n"
     ]
    }
   ],
   "source": [
    "a=data[:,:,np.newaxis]\n",
    "print(a.shape)"
   ]
  },
  {
   "cell_type": "code",
   "execution_count": 81,
   "metadata": {},
   "outputs": [
    {
     "name": "stdout",
     "output_type": "stream",
     "text": [
      "(1, 10, 2)\n"
     ]
    }
   ],
   "source": [
    "b=data[np.newaxis,:,:]\n",
    "print(b.shape)"
   ]
  },
  {
   "cell_type": "code",
   "execution_count": 88,
   "metadata": {},
   "outputs": [
    {
     "data": {
      "text/plain": [
       "6"
      ]
     },
     "execution_count": 88,
     "metadata": {},
     "output_type": "execute_result"
    }
   ],
   "source": [
    "\n",
    "a = np.sum((data[:,:,np.newaxis]-data.T[np.newaxis,:,:])**2,axis=1)\n",
    "np.argmin(a.sum(axis=0))"
   ]
  },
  {
   "cell_type": "code",
   "execution_count": 44,
   "metadata": {},
   "outputs": [
    {
     "data": {
      "text/plain": [
       "array([[ 1.76405235,  0.40015721],\n",
       "       [ 0.97873798,  2.2408932 ],\n",
       "       [ 1.86755799, -0.97727788],\n",
       "       [ 0.95008842, -0.15135721],\n",
       "       [-0.10321885,  0.4105985 ],\n",
       "       [ 0.14404357,  1.45427351],\n",
       "       [ 0.76103773,  0.12167502],\n",
       "       [ 0.44386323,  0.33367433],\n",
       "       [ 1.49407907, -0.20515826],\n",
       "       [ 0.3130677 , -0.85409574]])"
      ]
     },
     "execution_count": 44,
     "metadata": {},
     "output_type": "execute_result"
    }
   ],
   "source": [
    "np.random.seed(0)\n",
    "data = np.random.randn(10,2)\n",
    "data"
   ]
  },
  {
   "cell_type": "code",
   "execution_count": 63,
   "metadata": {},
   "outputs": [
    {
     "name": "stdout",
     "output_type": "stream",
     "text": [
      "[[0.         0.78531436 0.10350564 0.81396393 1.8672712  1.62000877\n",
      "  1.00301462 1.32018911 0.26997327 1.45098464]\n",
      " [0.78531436 0.         0.88882001 0.02864957 1.08195684 0.83469441\n",
      "  0.21770026 0.53487475 0.51534109 0.66567028]\n",
      " [0.10350564 0.88882001 0.         0.91746957 1.97077684 1.72351442\n",
      "  1.10652027 1.42369476 0.37347892 1.55449029]\n",
      " [0.81396393 0.02864957 0.91746957 0.         1.05330727 0.80604485\n",
      "  0.18905069 0.50622518 0.54399066 0.63702072]\n",
      " [1.8672712  1.08195684 1.97077684 1.05330727 0.         0.24726242\n",
      "  0.86425658 0.54708208 1.59729792 0.41628655]\n",
      " [1.62000877 0.83469441 1.72351442 0.80604485 0.24726242 0.\n",
      "  0.61699415 0.29981966 1.3500355  0.16902413]\n",
      " [1.00301462 0.21770026 1.10652027 0.18905069 0.86425658 0.61699415\n",
      "  0.         0.31717449 0.73304135 0.44797002]\n",
      " [1.32018911 0.53487475 1.42369476 0.50622518 0.54708208 0.29981966\n",
      "  0.31717449 0.         1.05021584 0.13079553]\n",
      " [0.26997327 0.51534109 0.37347892 0.54399066 1.59729792 1.3500355\n",
      "  0.73304135 1.05021584 0.         1.18101137]\n",
      " [1.45098464 0.66567028 1.55449029 0.63702072 0.41628655 0.16902413\n",
      "  0.44797002 0.13079553 1.18101137 0.        ]]\n",
      "(array([0], dtype=int64),)\n"
     ]
    }
   ],
   "source": [
    "np.sun(data - data[])\n",
    "\n",
    "print(abs(t-a))\n",
    "print(np.where(np.min(np.sum(abs(t-a),axis=1))))"
   ]
  },
  {
   "cell_type": "code",
   "execution_count": 89,
   "metadata": {},
   "outputs": [
    {
     "name": "stdout",
     "output_type": "stream",
     "text": [
      "[[ 2.          2.35179684  4.86639035  3.99271609  7.46022828  5.40163492\n",
      "   4.04761186  4.81287204  3.14175945  7.77253305]\n",
      " [ 6.7571505   2.         25.39352817 11.96714532  9.18617149  4.50007068\n",
      "   9.56784098  8.44156809 12.13997675 24.03278854]\n",
      " [ 1.36127671  2.47228611  2.          2.94078055  7.42585394  5.69208972\n",
      "   3.3570378   4.42199762  1.91481263  5.61677623]\n",
      " [ 1.0191749   1.06318065  2.68351134  2.          3.43721082  2.43979762\n",
      "   1.96917045  2.27469466  1.63570198  3.91011412]\n",
      " [ 1.1650408   0.49929794  4.14568165  2.10288198  2.          1.13309385\n",
      "   1.75635427  1.65859594  2.05349968  4.20150083]\n",
      " [ 3.06733527  0.88938861 11.55495572  5.42762124  4.12014863  2.\n",
      "   4.33044502  3.80764298  5.51555426 10.90249766]\n",
      " [ 1.12370384  0.92449202  3.33172973  2.14168713  3.12231063  2.11713969\n",
      "   2.          2.18220743  1.86701585  4.21834318]\n",
      " [ 1.20276372  0.73423544  3.95052703  2.22699285  2.65416297  1.67569975\n",
      "   1.96435071  2.          2.06386698  4.41949412]\n",
      " [ 1.30930208  1.76084445  2.85268448  2.67048915  5.47989894  4.04780953\n",
      "   2.80260523  3.44169694  2.          5.17117385]\n",
      " [ 0.51962833  0.55920445  1.34238748  1.02409297  1.79864592  1.28357197\n",
      "   1.01582558  1.18229757  0.82956888  2.        ]]\n",
      "[[ 0.          4.00502763  1.90804084  0.96670543  3.48681075  3.7355896\n",
      "   1.08359066  1.74731927  0.43929239  3.67850689]\n",
      " [ 4.00502763  0.         11.1466261   5.72368281  4.52060927  1.3154853\n",
      "   4.53847911  3.92357482  6.2487442  10.02207345]\n",
      " [ 1.90804084 11.1466261   0.          1.52389537  5.81016221  8.8829441\n",
      "   2.43208457  3.74550245  0.7356552   2.4316139 ]\n",
      " [ 0.96670543  5.72368281  1.52389537  0.          1.42525042  3.22775829\n",
      "   0.11028676  0.49151953  0.29882039  0.89963684]\n",
      " [ 3.48681075  4.52060927  5.81016221  1.42525042  0.          1.15039622\n",
      "   0.83041621  0.30521614  2.93051706  1.77274602]\n",
      " [ 3.7355896   1.3154853   8.8829441   3.22775829  1.15039622  0.\n",
      "   2.15650052  1.34563435  4.57630966  5.35713773]\n",
      " [ 1.08359066  4.53847911  2.43208457  0.11028676  0.83041621  2.15650052\n",
      "   0.          0.14554337  0.64416961  1.15280571]\n",
      " [ 1.74731927  3.92357482  3.74550245  0.49151953  0.30521614  1.34563435\n",
      "   0.14554337  0.          1.39329387  1.4279052 ]\n",
      " [ 0.43929239  6.2487442   0.7356552   0.29882039  2.93051706  4.57630966\n",
      "   0.64416961  1.39329387  0.          1.81590771]\n",
      " [ 3.67850689 10.02207345  2.4316139   0.89963684  1.77274602  5.35713773\n",
      "   1.15280571  1.4279052   1.81590771  0.        ]]\n"
     ]
    }
   ],
   "source": [
    "con = np.sum(np.exp((data[:,:,np.newaxis]-data.T[np.newaxis,:,:])), axis=1)\n",
    "con2 = np.sum((data[:,:,np.newaxis]-data.T[np.newaxis,:,:])**2, axis=1)\n",
    "print(con)\n",
    "print(con2)"
   ]
  },
  {
   "cell_type": "code",
   "execution_count": 92,
   "metadata": {},
   "outputs": [
    {
     "name": "stdout",
     "output_type": "stream",
     "text": [
      "(2, 3)\n",
      "[1 1 1]\n",
      "(3,)\n",
      "[3 0]\n",
      "(2,)\n"
     ]
    }
   ],
   "source": [
    "x = np.array([[1,1,1],[0,0,0]])\n",
    "print(x.shape)\n",
    "\n",
    "t=x.sum(axis=0)\n",
    "print(t)\n",
    "print(t.shape)\n",
    "z=x.sum(axis=1)\n",
    "print(z)\n",
    "print(z.shape)"
   ]
  },
  {
   "cell_type": "code",
   "execution_count": 95,
   "metadata": {},
   "outputs": [
    {
     "name": "stdout",
     "output_type": "stream",
     "text": [
      "[[[ 1  2  3]\n",
      "  [ 4  5  6]\n",
      "  [ 7  8  9]\n",
      "  [10 11 12]]\n",
      "\n",
      " [[13 14 15]\n",
      "  [16 17 18]\n",
      "  [19 20 21]\n",
      "  [22 23 24]]\n",
      "\n",
      " [[25 26 27]\n",
      "  [28 29 30]\n",
      "  [31 32 33]\n",
      "  [34 35 36]]\n",
      "\n",
      " [[37 38 39]\n",
      "  [40 41 42]\n",
      "  [43 44 45]\n",
      "  [46 47 48]]\n",
      "\n",
      " [[49 50 51]\n",
      "  [52 53 54]\n",
      "  [55 56 57]\n",
      "  [58 59 60]]]\n"
     ]
    }
   ],
   "source": [
    "x = np.array(range(1,61)).reshape(5,4,3)\n",
    "print(x)"
   ]
  },
  {
   "cell_type": "code",
   "execution_count": 96,
   "metadata": {},
   "outputs": [
    {
     "name": "stdout",
     "output_type": "stream",
     "text": [
      "[2 0 1]\n"
     ]
    }
   ],
   "source": [
    "t = np.array([[2,2],[-1,10],[0,1]])\n",
    "print(np.argsort(np.sum(t,axis=1)))"
   ]
  },
  {
   "cell_type": "code",
   "execution_count": null,
   "metadata": {},
   "outputs": [],
   "source": []
  }
 ],
 "metadata": {
  "kernelspec": {
   "display_name": "Python 3",
   "language": "python",
   "name": "python3"
  },
  "language_info": {
   "codemirror_mode": {
    "name": "ipython",
    "version": 3
   },
   "file_extension": ".py",
   "mimetype": "text/x-python",
   "name": "python",
   "nbconvert_exporter": "python",
   "pygments_lexer": "ipython3",
   "version": "3.7.6"
  }
 },
 "nbformat": 4,
 "nbformat_minor": 4
}
