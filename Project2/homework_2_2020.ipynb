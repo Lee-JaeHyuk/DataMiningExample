{
 "cells": [
  {
   "cell_type": "markdown",
   "metadata": {},
   "source": [
    "# Homework 2. Frequent itemset"
   ]
  },
  {
   "cell_type": "markdown",
   "metadata": {},
   "source": [
    "***Double Click here to edit this cell***\n",
    "\n",
    "- Name: 이재혁\n",
    "- Student ID: 201502552\n",
    "- Submission date: 2020/03/30"
   ]
  },
  {
   "cell_type": "markdown",
   "metadata": {},
   "source": [
    "*Remark. Do not import numpy, pandas, sklearn, or any module implementing the solution directly*"
   ]
  },
  {
   "cell_type": "markdown",
   "metadata": {},
   "source": [
    "## Frequent itemset\n",
    "- ***Support*** is an indication of how frequently the itemset $X$ appears in the dataset $T$.\n",
    "- The support of X with respect to T is defined as the proportion of transactions t in the dataset which contains the itemset X.\n",
    "\n",
    "$$\n",
    "{\\displaystyle \\mathrm {supp} (X)={\\frac {|\\{t\\in T;X\\subseteq t\\}|}{|T|}}} \n",
    "$$\n",
    "\n",
    "- Frequent itemset is an itemset whose support $\\ge$ ***min_sup***."
   ]
  },
  {
   "cell_type": "markdown",
   "metadata": {},
   "source": [
    "## Data set\n",
    "\n",
    "- Each line in the following can be imagined as a market basket, which contains items you want to buy."
   ]
  },
  {
   "cell_type": "code",
   "execution_count": 183,
   "metadata": {},
   "outputs": [],
   "source": [
    "# DO NOT EDIT THIS CELL\n",
    "data_str = 'apple,beer,rice,chicken\\n'\n",
    "data_str += 'apple,beer,rice\\n'\n",
    "data_str += 'apple,beer\\n'\n",
    "data_str += 'apple,mango\\n'\n",
    "data_str += 'milk,beer,rice,chicken\\n'\n",
    "data_str += 'milk,beer,rice\\n'\n",
    "data_str += 'milk,beer\\n'\n",
    "data_str += 'milk,mango'"
   ]
  },
  {
   "cell_type": "code",
   "execution_count": 184,
   "metadata": {},
   "outputs": [
    {
     "data": {
      "text/plain": [
       "'apple,beer,rice,chicken\\napple,beer,rice\\napple,beer\\napple,mango\\nmilk,beer,rice,chicken\\nmilk,beer,rice\\nmilk,beer\\nmilk,mango'"
      ]
     },
     "execution_count": 184,
     "metadata": {},
     "output_type": "execute_result"
    }
   ],
   "source": [
    "data_str"
   ]
  },
  {
   "cell_type": "markdown",
   "metadata": {},
   "source": [
    "## Problem 1 (2 pts)\n",
    "\n",
    "- Define a function ***record_gen*** generating a list of items each ***next***.\n",
    "- It must be a generator.\n",
    "- Use ***yield*** instead of ***return***"
   ]
  },
  {
   "cell_type": "code",
   "execution_count": 185,
   "metadata": {
    "hide_input": false
   },
   "outputs": [],
   "source": [
    "# YOUR CODE MUST BE HERE\n",
    "\n",
    "def gen_record(s):\n",
    "    li = [] # 빈 리스트 생성\n",
    "    li = data_str.split('\\n') # \\n으로 split 한다. 이렇게 되면 리스트의 크기는 8 \n",
    "    for i in range(len(li)): # li의 길이만큼 반복문을 돌린다.\n",
    "        li[i] = li[i].split(',') # li의 첫번째 원소를 , 로 split 해서 각 원소를 string이 아니라 리스트로 저장한다.\n",
    "        yield li[i] # generator의 경우 return이 아니라 yield를 사용"
   ]
  },
  {
   "cell_type": "code",
   "execution_count": 186,
   "metadata": {},
   "outputs": [
    {
     "data": {
      "text/plain": [
       "['apple', 'beer', 'rice', 'chicken']"
      ]
     },
     "execution_count": 186,
     "metadata": {},
     "output_type": "execute_result"
    }
   ],
   "source": [
    "# DO NOT EDIT THIS CELL\n",
    "test = gen_record(data_str)\n",
    "next(test)"
   ]
  },
  {
   "cell_type": "markdown",
   "metadata": {},
   "source": [
    "**Your output must be:**\n",
    "```\n",
    "['apple', 'beer', 'rice', 'chicken']\n",
    "```"
   ]
  },
  {
   "cell_type": "code",
   "execution_count": 187,
   "metadata": {},
   "outputs": [
    {
     "data": {
      "text/plain": [
       "['apple', 'beer', 'rice']"
      ]
     },
     "execution_count": 187,
     "metadata": {},
     "output_type": "execute_result"
    }
   ],
   "source": [
    "# DO NOT EDIT THIS CELL\n",
    "next(test)"
   ]
  },
  {
   "cell_type": "markdown",
   "metadata": {},
   "source": [
    "**Your output must be:**\n",
    "```\n",
    "['apple', 'beer', 'rice']\n",
    "```"
   ]
  },
  {
   "cell_type": "markdown",
   "metadata": {},
   "source": [
    "## Problem 2 (10 pts)\n",
    "\n",
    "- Define a function ***gen_frequent_1_itemset*** generating 1-itemset.\n",
    "- It must be a generator.\n",
    "- We want to find frequent 1-itemset (itemset containing only 1 item)"
   ]
  },
  {
   "cell_type": "code",
   "execution_count": 188,
   "metadata": {},
   "outputs": [
    {
     "data": {
      "text/plain": [
       "[['apple', 'beer', 'rice', 'chicken'],\n",
       " ['apple', 'beer', 'rice'],\n",
       " ['apple', 'beer'],\n",
       " ['apple', 'mango'],\n",
       " ['milk', 'beer', 'rice', 'chicken'],\n",
       " ['milk', 'beer', 'rice'],\n",
       " ['milk', 'beer'],\n",
       " ['milk', 'mango']]"
      ]
     },
     "execution_count": 188,
     "metadata": {},
     "output_type": "execute_result"
    }
   ],
   "source": [
    "dataset = list(gen_record(data_str))\n",
    "dataset"
   ]
  },
  {
   "cell_type": "code",
   "execution_count": 189,
   "metadata": {},
   "outputs": [],
   "source": [
    "# YOUR CODE MUST BE HERE\n",
    "from functools import reduce\n",
    "from collections import Counter\n",
    "\n",
    "def gen_frequent_1_itemset(dataset, min_sup=0.5):\n",
    "    li = list(set(reduce(lambda x,y:x+y,dataset)))\n",
    "    li2 = []\n",
    "    for i in range(len(dataset)):\n",
    "        for j in range(len(dataset[i])):\n",
    "            li2.append(dataset[i][j])\n",
    "    leng = len(dataset)\n",
    "    count = Counter(li2)\n",
    "    for st in li:\n",
    "        if count[st] >= leng*min_sup:\n",
    "            yield st"
   ]
  },
  {
   "cell_type": "code",
   "execution_count": 190,
   "metadata": {},
   "outputs": [
    {
     "name": "stdout",
     "output_type": "stream",
     "text": [
      "rice\n",
      "apple\n",
      "beer\n",
      "milk\n",
      "No more items\n"
     ]
    }
   ],
   "source": [
    "# DO NOT EDIT THIS CELL\n",
    "dataset = list(gen_record(data_str))\n",
    "for item in gen_frequent_1_itemset(dataset, 0.5):\n",
    "    print(item)\n",
    "print('No more items')"
   ]
  },
  {
   "cell_type": "markdown",
   "metadata": {},
   "source": [
    "**Your output must be:**\n",
    "```\n",
    "rice\n",
    "beer\n",
    "milk\n",
    "apple\n",
    "No more items\n",
    "```"
   ]
  },
  {
   "cell_type": "code",
   "execution_count": 191,
   "metadata": {},
   "outputs": [
    {
     "name": "stdout",
     "output_type": "stream",
     "text": [
      "beer\n",
      "No more items\n"
     ]
    }
   ],
   "source": [
    "# DO NOT EDIT THIS CELL\n",
    "dataset = list(gen_record(data_str))\n",
    "for item in gen_frequent_1_itemset(dataset, 0.7):\n",
    "    print(item)\n",
    "print('No more items')"
   ]
  },
  {
   "cell_type": "markdown",
   "metadata": {},
   "source": [
    "**Your output must be:**\n",
    "```\n",
    "beer\n",
    "No more items\n",
    "```"
   ]
  },
  {
   "cell_type": "code",
   "execution_count": 192,
   "metadata": {
    "hide_input": false
   },
   "outputs": [
    {
     "name": "stdout",
     "output_type": "stream",
     "text": [
      "chicken\n",
      "rice\n",
      "apple\n",
      "beer\n",
      "mango\n",
      "milk\n",
      "No more items\n"
     ]
    }
   ],
   "source": [
    "# DO NOT EDIT THIS CELL\n",
    "dataset = list(gen_record(data_str))\n",
    "for item in gen_frequent_1_itemset(dataset, 0.2):\n",
    "    print(item)\n",
    "print('No more items')"
   ]
  },
  {
   "cell_type": "markdown",
   "metadata": {},
   "source": [
    "**Your output must be:**\n",
    "```\n",
    "rice\n",
    "chicken\n",
    "beer\n",
    "mango\n",
    "milk\n",
    "apple\n",
    "No more items\n",
    "```"
   ]
  },
  {
   "cell_type": "markdown",
   "metadata": {},
   "source": [
    "## Problem 3 (10 pts)\n",
    "\n",
    "- Define a function ***gen_frequent_2_itemset*** generating 2-itemset.\n",
    "- It must be a generator.\n",
    "- We want to find frequent 2-itemset (itemset containing only 2 items)"
   ]
  },
  {
   "cell_type": "code",
   "execution_count": 193,
   "metadata": {},
   "outputs": [
    {
     "data": {
      "text/plain": [
       "[['apple', 'beer', 'rice', 'chicken'],\n",
       " ['apple', 'beer', 'rice'],\n",
       " ['apple', 'beer'],\n",
       " ['apple', 'mango'],\n",
       " ['milk', 'beer', 'rice', 'chicken'],\n",
       " ['milk', 'beer', 'rice'],\n",
       " ['milk', 'beer'],\n",
       " ['milk', 'mango']]"
      ]
     },
     "execution_count": 193,
     "metadata": {},
     "output_type": "execute_result"
    }
   ],
   "source": [
    "dataset = list(gen_record(data_str))\n",
    "dataset"
   ]
  },
  {
   "cell_type": "code",
   "execution_count": 194,
   "metadata": {},
   "outputs": [],
   "source": [
    "# YOUR CODE MUST BE HERE\n",
    "from functools import reduce\n",
    "from collections import Counter\n",
    "\n",
    "def gen_frequent_2_itemset(dataset, min_sup=0.5):\n",
    "    li = list(set(reduce(lambda x,y:x+y,dataset))) \n",
    "    li2 = [(i,j)for i in items for j in items if i<j] # 각 li에 원소를 2개씩 튜플로 묶어 저장\n",
    "    li3 = [sum([set(li) <= set(i)for i in dataset])for li in li2] # li2 의 원소가 총 몇번 나오는지 횟수를 같인 index에 저장\n",
    "    leng = len(dataset)\n",
    "    for i in range(len(li3)):\n",
    "        if li3[i] >= min_sup * leng:\n",
    "            yield li2[i]"
   ]
  },
  {
   "cell_type": "code",
   "execution_count": 195,
   "metadata": {},
   "outputs": [
    {
     "name": "stdout",
     "output_type": "stream",
     "text": [
      "('beer', 'rice')\n",
      "No more items\n"
     ]
    }
   ],
   "source": [
    "# DO NOT EDIT THIS CELL\n",
    "data = list(gen_record(data_str))\n",
    "for item in gen_frequent_2_itemset(data, 0.5):\n",
    "    print(item)\n",
    "print('No more items')"
   ]
  },
  {
   "cell_type": "markdown",
   "metadata": {},
   "source": [
    "**Your output must be:**\n",
    "```\n",
    "('beer', 'rice')\n",
    "No more items\n",
    "```"
   ]
  },
  {
   "cell_type": "code",
   "execution_count": 196,
   "metadata": {},
   "outputs": [
    {
     "name": "stdout",
     "output_type": "stream",
     "text": [
      "('apple', 'beer')\n",
      "('beer', 'rice')\n",
      "('beer', 'milk')\n",
      "No more items\n"
     ]
    }
   ],
   "source": [
    "# DO NOT EDIT THIS CELL\n",
    "data = list(gen_record(data_str))\n",
    "for item in gen_frequent_2_itemset(data, 0.3):\n",
    "    print(item)\n",
    "print('No more items')"
   ]
  },
  {
   "cell_type": "markdown",
   "metadata": {},
   "source": [
    "**Your output must be:**\n",
    "```\n",
    "('beer', 'rice')\n",
    "('beer', 'milk')\n",
    "('apple', 'beer')\n",
    "No more items\n",
    "```"
   ]
  },
  {
   "cell_type": "code",
   "execution_count": 197,
   "metadata": {},
   "outputs": [
    {
     "name": "stdout",
     "output_type": "stream",
     "text": [
      "('chicken', 'rice')\n",
      "('apple', 'rice')\n",
      "('apple', 'beer')\n",
      "('beer', 'chicken')\n",
      "('beer', 'rice')\n",
      "('beer', 'milk')\n",
      "('milk', 'rice')\n",
      "No more items\n"
     ]
    }
   ],
   "source": [
    "# DO NOT EDIT THIS CELL\n",
    "dataset = list(gen_record(data_str))\n",
    "for item in gen_frequent_2_itemset(dataset, 0.2):\n",
    "    print(item)\n",
    "print('No more items')"
   ]
  },
  {
   "cell_type": "markdown",
   "metadata": {},
   "source": [
    "**Your output must be:**\n",
    "```\n",
    "('chicken', 'rice')\n",
    "('beer', 'rice')\n",
    "('beer', 'chicken')\n",
    "('beer', 'milk')\n",
    "('milk', 'rice')\n",
    "('apple', 'rice')\n",
    "('apple', 'beer')\n",
    "No more items\n",
    "```"
   ]
  },
  {
   "cell_type": "markdown",
   "metadata": {},
   "source": [
    "## Ethics:\n",
    "If you cheat, you will get negatgive of the total points.\n",
    "If the homework total is 22 and you cheat, you get -22."
   ]
  },
  {
   "cell_type": "markdown",
   "metadata": {},
   "source": [
    "## What to submit\n",
    "- Run **all cells**\n",
    "- Goto \"File -> Print Preview\"\n",
    "- Print the page as pdf\n",
    "- Submit the pdf file in google classroom\n",
    "- No late homeworks accepted\n",
    "- Your homework will be graded on the basis of correctness and programming skills"
   ]
  }
 ],
 "metadata": {
  "hide_input": false,
  "kernelspec": {
   "display_name": "Python 3",
   "language": "python",
   "name": "python3"
  },
  "language_info": {
   "codemirror_mode": {
    "name": "ipython",
    "version": 3
   },
   "file_extension": ".py",
   "mimetype": "text/x-python",
   "name": "python",
   "nbconvert_exporter": "python",
   "pygments_lexer": "ipython3",
   "version": "3.7.6"
  }
 },
 "nbformat": 4,
 "nbformat_minor": 2
}
